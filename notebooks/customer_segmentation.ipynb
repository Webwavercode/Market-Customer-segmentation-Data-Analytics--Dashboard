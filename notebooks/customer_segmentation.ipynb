import pandas as pd
import numpy as np
import matplotlib.pyplot as plt
import seaborn as sns
from sklearn.preprocessing import StandardScaler
from sklearn.cluster import KMeans


# Load Data
data = pd.read_csv('../data/Mall_Customers.csv')
data.head()
print(data.isnull().sum())   # Check missing data
data = data.drop_duplicates()  # Remove duplicates
features = data[['Age', 'Annual Income (k$)', 'Spending Score (1-100)']]  # Adjust columns based on your data

  
scaler = StandardScaler()
scaled_features = scaler.fit_transform(features)
sns.pairplot(data[['Age', 'Annual Income (k$)', 'Spending Score (1-100)']])
plt.show()
  
  sse = []
for k in range(1, 11):
    kmeans = KMeans(n_clusters=k, random_state=42)
    kmeans.fit(scaled_features)
    sse.append(kmeans.inertia_)

  
plt.plot(range(1, 11), sse, marker='o')
plt.xlabel('Number of Clusters')
plt.ylabel('Sum of Squared Distances')
plt.title('Elbow Method For Optimal k')
plt.show()

  
  k = 4  # Set based on elbow plot result
kmeans = KMeans(n_clusters=k, random_state=42)
clusters = kmeans.fit_predict(scaled_features)
data['Cluster'] = clusters
data.head()

sns.scatterplot(x='Annual Income (k$)', y='Spending Score (1-100)', hue='Cluster', data=data, palette='Set2')
plt.title('Customer Segments by Income and Spending Score')
plt.show()

## Business Insights

##- Cluster 0: High income, high spenders—target for premium offers.
##- Cluster 1: Younger customers with low spending—potential for engagement campaigns.
##...

numeric_cols = data.select_dtypes(include=[np.number]).columns
cluster_summary = data.groupby('Cluster')[numeric_cols].mean()
print(cluster_summary)

data.to_excel("C:\\Users\\Priyanka\\OneDrive\\Desktop\\documents\\customers.xlsx", index=False)



